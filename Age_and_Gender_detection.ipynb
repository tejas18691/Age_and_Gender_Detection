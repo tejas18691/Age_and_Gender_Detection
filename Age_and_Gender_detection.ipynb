{
  "nbformat": 4,
  "nbformat_minor": 0,
  "metadata": {
    "colab": {
      "name": "Copy of Age_and_Gender_detection.ipynb",
      "provenance": [],
      "authorship_tag": "ABX9TyOi4YkjSxQbur9EeV6O+Vus",
      "include_colab_link": true
    },
    "kernelspec": {
      "name": "python3",
      "display_name": "Python 3"
    },
    "language_info": {
      "name": "python"
    }
  },
  "cells": [
    {
      "cell_type": "markdown",
      "metadata": {
        "id": "view-in-github",
        "colab_type": "text"
      },
      "source": [
        "<a href=\"https://colab.research.google.com/github/tejas18691/Age_and_Gender_Detection/blob/main/Copy_of_Age_and_Gender_detection.ipynb\" target=\"_parent\"><img src=\"https://colab.research.google.com/assets/colab-badge.svg\" alt=\"Open In Colab\"/></a>"
      ]
    },
    {
      "cell_type": "code",
      "metadata": {
        "id": "4Miwi6aYOsN8"
      },
      "source": [
        "!git clone https://github.com/misbah4064/age_and_gender_detection.git\n",
        "%cd age_and_gender_detection"
      ],
      "execution_count": null,
      "outputs": []
    },
    {
      "cell_type": "code",
      "metadata": {
        "id": "0UCJFPjjlmWB"
      },
      "source": [
        "# Downloading pretrained data and unzipping it\n",
        "!gdown https://drive.google.com/uc?id=1_aDScOvBeBLCn_iv0oxSO8X1ySQpSbIS\n",
        "# https://drive.google.com/uc?id=1_aDScOvBeBLCn_iv0oxSO8X1ySQpSbIS\n",
        "!unzip modelNweight.zip"
      ],
      "execution_count": null,
      "outputs": []
    },
    {
      "cell_type": "code",
      "metadata": {
        "id": "LNaqBddKlm7Y"
      },
      "source": [
        "import cv2 as cv\n",
        "import math\n",
        "import time\n",
        "from google.colab.patches import cv2_imshow\n",
        "\n",
        "def getFaceBox(net, frame, conf_threshold=0.7):\n",
        "    frameOpencvDnn = frame.copy()\n",
        "    frameHeight = frameOpencvDnn.shape[0]\n",
        "    frameWidth = frameOpencvDnn.shape[1]\n",
        "    blob = cv.dnn.blobFromImage(frameOpencvDnn, 1.0, (300, 300), [104, 117, 123], True, False)\n",
        "\n",
        "    net.setInput(blob)\n",
        "    detections = net.forward()\n",
        "    bboxes = []\n",
        "    for i in range(detections.shape[2]):\n",
        "        confidence = detections[0, 0, i, 2]\n",
        "        if confidence > conf_threshold:\n",
        "            x1 = int(detections[0, 0, i, 3] * frameWidth)\n",
        "            y1 = int(detections[0, 0, i, 4] * frameHeight)\n",
        "            x2 = int(detections[0, 0, i, 5] * frameWidth)\n",
        "            y2 = int(detections[0, 0, i, 6] * frameHeight)\n",
        "            bboxes.append([x1, y1, x2, y2])\n",
        "            cv.rectangle(frameOpencvDnn, (x1, y1), (x2, y2), (0, 255, 0), int(round(frameHeight/150)), 8)\n",
        "    return frameOpencvDnn, bboxes\n",
        "\n",
        "faceProto = \"modelNweight/opencv_face_detector.pbtxt\"\n",
        "faceModel = \"modelNweight/opencv_face_detector_uint8.pb\"\n",
        "\n",
        "ageProto = \"modelNweight/age_deploy.prototxt\"\n",
        "ageModel = \"modelNweight/age_net.caffemodel\"\n",
        "\n",
        "genderProto = \"modelNweight/gender_deploy.prototxt\"\n",
        "genderModel = \"modelNweight/gender_net.caffemodel\"\n",
        "\n",
        "MODEL_MEAN_VALUES = (78.4263377603, 87.7689143744, 114.895847746)\n",
        "ageList = ['(0-2)', '(4-6)', '(8-12)', '(15-20)', '(25-32)', '(38-43)', '(48-53)', '(60-100)']\n",
        "genderList = ['Male', 'Female']\n",
        "\n",
        "# Load network\n",
        "ageNet = cv.dnn.readNet(ageModel, ageProto)\n",
        "genderNet = cv.dnn.readNet(genderModel, genderProto)\n",
        "faceNet = cv.dnn.readNet(faceModel, faceProto)\n",
        "\n",
        "padding = 20\n",
        "\n",
        "def age_gender_detector(frame):\n",
        "    # Read frame\n",
        "    t = time.time()\n",
        "    frameFace, bboxes = getFaceBox(faceNet, frame)\n",
        "    for bbox in bboxes:\n",
        "        # print(bbox)\n",
        "        face = frame[max(0,bbox[1]-padding):min(bbox[3]+padding,frame.shape[0]-1),max(0,bbox[0]-padding):min(bbox[2]+padding, frame.shape[1]-1)]\n",
        "\n",
        "        blob = cv.dnn.blobFromImage(face, 1.0, (227, 227), MODEL_MEAN_VALUES, swapRB=False)\n",
        "        genderNet.setInput(blob)\n",
        "        genderPreds = genderNet.forward()\n",
        "        gender = genderList[genderPreds[0].argmax()]\n",
        "        ageNet.setInput(blob)\n",
        "        agePreds = ageNet.forward()\n",
        "        age = ageList[agePreds[0].argmax()]\n",
        "\n",
        "        label = \"{},{}\".format(gender, age)\n",
        "        cv.putText(frameFace, label, (bbox[0], bbox[1]-10), cv.FONT_HERSHEY_SIMPLEX, 0.8, (0, 255, 255), 2, cv.LINE_AA)\n",
        "    return frameFace"
      ],
      "execution_count": null,
      "outputs": []
    },
    {
      "cell_type": "code",
      "metadata": {
        "id": "p2MauYm5lzfJ"
      },
      "source": [
        "input = cv.imread(\"image.jpg\")\n",
        "output = age_gender_detector(input)\n",
        "cv2_imshow(output)"
      ],
      "execution_count": null,
      "outputs": []
    },
    {
      "cell_type": "code",
      "metadata": {
        "id": "fGgFvZSXl3DR"
      },
      "source": [
        "input = cv.imread(\"image1.jpg\")\n",
        "output = age_gender_detector(input)\n",
        "cv2_imshow(output)"
      ],
      "execution_count": null,
      "outputs": []
    },
    {
      "cell_type": "code",
      "metadata": {
        "id": "-gWqFbGCl6jx"
      },
      "source": [
        "input = cv.imread(\"image2.jpg\")\n",
        "output = age_gender_detector(input)\n",
        "cv2_imshow(output)"
      ],
      "execution_count": null,
      "outputs": []
    },
    {
      "cell_type": "code",
      "metadata": {
        "id": "CsqR7xgjnnBU"
      },
      "source": [
        "input = cv.imread(\"image3.jpg\")\n",
        "output = age_gender_detector(input)\n",
        "cv2_imshow(output)"
      ],
      "execution_count": null,
      "outputs": []
    }
  ]
}
